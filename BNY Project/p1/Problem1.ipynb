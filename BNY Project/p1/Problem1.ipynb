{
 "cells": [
  {
   "cell_type": "code",
   "execution_count": 1,
   "metadata": {},
   "outputs": [],
   "source": [
    "import numpy as np\n",
    "import pandas as pd"
   ]
  },
  {
   "cell_type": "code",
   "execution_count": 2,
   "metadata": {},
   "outputs": [
    {
     "data": {
      "text/plain": [
       "(522, 59)"
      ]
     },
     "execution_count": 2,
     "metadata": {},
     "output_type": "execute_result"
    }
   ],
   "source": [
    "# read in excel data\n",
    "df = pd.read_excel('Data for Coding Test.xlsx', sheet_name='problem #1', header=None, dtype=float, skiprows=[0, 1], usecols=\"B:BH\")\n",
    "rets = df.to_numpy() # return data\n",
    "rets.shape"
   ]
  },
  {
   "cell_type": "code",
   "execution_count": 3,
   "metadata": {},
   "outputs": [
    {
     "data": {
      "text/plain": [
       "(522,)"
      ]
     },
     "execution_count": 3,
     "metadata": {},
     "output_type": "execute_result"
    }
   ],
   "source": [
    "# weights column vector\n",
    "d = 0.01\n",
    "w = [(1-d)**((i-1)/2) for i in range (len(rets),0,-1)]\n",
    "w = np.array(w)\n",
    "w.shape"
   ]
  },
  {
   "cell_type": "code",
   "execution_count": 4,
   "metadata": {},
   "outputs": [
    {
     "data": {
      "text/plain": [
       "(522, 59)"
      ]
     },
     "execution_count": 4,
     "metadata": {},
     "output_type": "execute_result"
    }
   ],
   "source": [
    "# r_hatD\n",
    "r_hatD = np.transpose(np.transpose(rets)*w)\n",
    "r_hatD\n",
    "r_hatD.shape"
   ]
  },
  {
   "cell_type": "code",
   "execution_count": 5,
   "metadata": {},
   "outputs": [
    {
     "data": {
      "text/plain": [
       "(59, 59)"
      ]
     },
     "execution_count": 5,
     "metadata": {},
     "output_type": "execute_result"
    }
   ],
   "source": [
    "# s_0hatD\n",
    "s_0hatD = np.dot(np.transpose(r_hatD), r_hatD) / np.sum(w)\n",
    "s_0hatD\n",
    "s_0hatD.shape"
   ]
  },
  {
   "cell_type": "code",
   "execution_count": 6,
   "metadata": {},
   "outputs": [
    {
     "data": {
      "text/plain": [
       "(522, 59)"
      ]
     },
     "execution_count": 6,
     "metadata": {},
     "output_type": "execute_result"
    }
   ],
   "source": [
    "# r_hat1D\n",
    "r_hat1D = np.append(np.array([[0]*len(r_hatD[0])]), r_hatD[:-1], axis=0)\n",
    "r_hat1D\n",
    "r_hat1D.shape"
   ]
  },
  {
   "cell_type": "code",
   "execution_count": 7,
   "metadata": {},
   "outputs": [
    {
     "data": {
      "text/plain": [
       "(59, 59)"
      ]
     },
     "execution_count": 7,
     "metadata": {},
     "output_type": "execute_result"
    }
   ],
   "source": [
    "# s_1hatD\n",
    "s_1hatD = np.dot(np.transpose(r_hatD), r_hat1D) / np.sum(w)\n",
    "s_1hatD\n",
    "s_1hatD.shape"
   ]
  },
  {
   "cell_type": "code",
   "execution_count": 8,
   "metadata": {},
   "outputs": [
    {
     "data": {
      "text/plain": [
       "(522, 59)"
      ]
     },
     "execution_count": 8,
     "metadata": {},
     "output_type": "execute_result"
    }
   ],
   "source": [
    "# r_hat2D\n",
    "r_hat2D = np.append(np.array([[0]*len(r_hatD[0]),[0]*len(r_hatD[0])]), r_hatD[:-2], axis=0)\n",
    "r_hat2D\n",
    "r_hat2D.shape"
   ]
  },
  {
   "cell_type": "code",
   "execution_count": 9,
   "metadata": {},
   "outputs": [
    {
     "data": {
      "text/plain": [
       "(59, 59)"
      ]
     },
     "execution_count": 9,
     "metadata": {},
     "output_type": "execute_result"
    }
   ],
   "source": [
    "# s_2hatD\n",
    "s_2hatD = np.dot(np.transpose(r_hatD), r_hat2D) / np.sum(w)\n",
    "s_2hatD\n",
    "s_2hatD.shape"
   ]
  },
  {
   "cell_type": "code",
   "execution_count": 10,
   "metadata": {},
   "outputs": [
    {
     "data": {
      "text/plain": [
       "(59, 59)"
      ]
     },
     "execution_count": 10,
     "metadata": {},
     "output_type": "execute_result"
    }
   ],
   "source": [
    "# s_hatM\n",
    "p = 21\n",
    "s_hatM = s_0hatD*p + np.add(s_1hatD,np.transpose(s_1hatD))*(p-1) + np.add(s_2hatD,np.transpose(s_2hatD))*(p-2)\n",
    "s_hatM\n",
    "s_hatM.shape"
   ]
  },
  {
   "cell_type": "code",
   "execution_count": 11,
   "metadata": {},
   "outputs": [
    {
     "data": {
      "text/plain": [
       "(59,)"
      ]
     },
     "execution_count": 11,
     "metadata": {},
     "output_type": "execute_result"
    }
   ],
   "source": [
    "# read in risk contribution\n",
    "risk_df = pd.read_excel('Data for Coding Test.xlsx', sheet_name='problem #1', header=None, usecols=\"B:BH\").iloc[0]\n",
    "risk_con= risk_df.to_numpy().astype(float)\n",
    "risk_con.shape"
   ]
  },
  {
   "cell_type": "code",
   "execution_count": 12,
   "metadata": {},
   "outputs": [
    {
     "data": {
      "text/plain": [
       "(59,)"
      ]
     },
     "execution_count": 12,
     "metadata": {},
     "output_type": "execute_result"
    }
   ],
   "source": [
    "vol = 0.1\n",
    "var = vol**2\n",
    "risk_con = risk_con*var # the risk vector\n",
    "risk_con.shape"
   ]
  },
  {
   "cell_type": "code",
   "execution_count": 13,
   "metadata": {},
   "outputs": [],
   "source": [
    "# Optimize using scipy\n",
    "# Diagonal Matrix with weights on the diag\n",
    "from scipy import optimize\n",
    "def fit(x,a):\n",
    "    return np.dot(np.dot(np.diagflat(x),a),x)\n",
    "def err(x):\n",
    "    return fit(x,s_hatM)-risk_con"
   ]
  },
  {
   "cell_type": "code",
   "execution_count": 14,
   "metadata": {},
   "outputs": [
    {
     "data": {
      "text/plain": [
       "(array([ 2.21964573e-01,  1.95469004e-01,  1.84675678e-01,  5.57576450e-02,\n",
       "         4.50040067e-02,  3.81518959e-02,  4.08945449e-02,  3.50823877e-02,\n",
       "         3.11133028e-02,  5.21060448e-02,  3.60352144e-02,  5.76116367e-02,\n",
       "         4.39082589e-02,  5.18587138e-02,  4.81718628e-02,  6.36768531e-02,\n",
       "         6.59791553e-02,  8.43456269e-02,  4.98202716e-02,  8.46132526e-02,\n",
       "         8.11676332e-02,  4.72205134e-02,  4.66249368e-02, -1.45554661e-01,\n",
       "         5.34535303e-02,  7.61106099e-02,  5.13700786e-02,  2.05332462e-01,\n",
       "         6.04167282e-02,  7.46472946e-02,  3.72282123e-02,  4.15823191e-02,\n",
       "         4.07293667e-02,  4.25973314e-02,  7.72569839e-02,  7.12440822e-02,\n",
       "         4.20537804e-02,  1.38126139e-01,  2.28603727e-01,  1.35467489e-01,\n",
       "         5.85751204e-02,  6.83020388e-02,  5.60155858e-02,  8.45125944e-02,\n",
       "         1.33986651e-01,  7.94844045e-16,  9.35492646e-01,  5.86458248e-16,\n",
       "         6.74675565e-01,  6.53039873e-01,  4.10338898e-01,  2.64827031e-16,\n",
       "         6.23303016e-01,  6.56442907e-01,  2.93569490e-16,  3.09198736e-16,\n",
       "         5.23257261e-01,  5.63061167e-01,  5.47939156e-15]), 1)"
      ]
     },
     "execution_count": 14,
     "metadata": {},
     "output_type": "execute_result"
    }
   ],
   "source": [
    "start = np.array([0]*59) # initial guess, 59 is a magic number, which is the number of assets\n",
    "res = optimize.leastsq(err,start)\n",
    "res"
   ]
  },
  {
   "cell_type": "code",
   "execution_count": 15,
   "metadata": {},
   "outputs": [
    {
     "data": {
      "text/plain": [
       "array([ 2.21964573e-01,  1.95469004e-01,  1.84675678e-01,  5.57576450e-02,\n",
       "        4.50040067e-02,  3.81518959e-02,  4.08945449e-02,  3.50823877e-02,\n",
       "        3.11133028e-02,  5.21060448e-02,  3.60352144e-02,  5.76116367e-02,\n",
       "        4.39082589e-02,  5.18587138e-02,  4.81718628e-02,  6.36768531e-02,\n",
       "        6.59791553e-02,  8.43456269e-02,  4.98202716e-02,  8.46132526e-02,\n",
       "        8.11676332e-02,  4.72205134e-02,  4.66249368e-02, -1.45554661e-01,\n",
       "        5.34535303e-02,  7.61106099e-02,  5.13700786e-02,  2.05332462e-01,\n",
       "        6.04167282e-02,  7.46472946e-02,  3.72282123e-02,  4.15823191e-02,\n",
       "        4.07293667e-02,  4.25973314e-02,  7.72569839e-02,  7.12440822e-02,\n",
       "        4.20537804e-02,  1.38126139e-01,  2.28603727e-01,  1.35467489e-01,\n",
       "        5.85751204e-02,  6.83020388e-02,  5.60155858e-02,  8.45125944e-02,\n",
       "        1.33986651e-01,  7.94844045e-16,  9.35492646e-01,  5.86458248e-16,\n",
       "        6.74675565e-01,  6.53039873e-01,  4.10338898e-01,  2.64827031e-16,\n",
       "        6.23303016e-01,  6.56442907e-01,  2.93569490e-16,  3.09198736e-16,\n",
       "        5.23257261e-01,  5.63061167e-01,  5.47939156e-15])"
      ]
     },
     "execution_count": 15,
     "metadata": {},
     "output_type": "execute_result"
    }
   ],
   "source": [
    "weights = res[0] # calculated weights\n",
    "weights"
   ]
  },
  {
   "cell_type": "code",
   "execution_count": 16,
   "metadata": {},
   "outputs": [
    {
     "data": {
      "text/plain": [
       "array([3.70370370e-02, 3.70370370e-02, 3.70370370e-02, 1.01010101e-02,\n",
       "       1.01010101e-02, 1.01010101e-02, 1.01010101e-02, 1.01010101e-02,\n",
       "       1.01010101e-02, 1.01010101e-02, 1.01010101e-02, 1.01010101e-02,\n",
       "       1.01010101e-02, 1.01010101e-02, 1.58730159e-02, 1.58730159e-02,\n",
       "       1.58730159e-02, 1.58730159e-02, 1.58730159e-02, 1.58730159e-02,\n",
       "       1.58730159e-02, 1.85185185e-02, 1.85185185e-02, 1.85185185e-02,\n",
       "       1.85185185e-02, 1.85185185e-02, 1.85185185e-02, 1.01010101e-02,\n",
       "       1.01010101e-02, 1.01010101e-02, 1.01010101e-02, 1.01010101e-02,\n",
       "       1.01010101e-02, 1.01010101e-02, 1.01010101e-02, 1.01010101e-02,\n",
       "       1.01010101e-02, 1.01010101e-02, 1.58730159e-02, 1.58730159e-02,\n",
       "       1.58730159e-02, 1.58730159e-02, 1.58730159e-02, 1.58730159e-02,\n",
       "       1.58730159e-02, 1.29210333e-17, 3.70370370e-02, 2.29290640e-17,\n",
       "       3.70370370e-02, 3.70370370e-02, 3.70370370e-02, 3.09993806e-18,\n",
       "       3.70370370e-02, 3.70370370e-02, 6.33267876e-18, 7.91734949e-18,\n",
       "       5.55555556e-02, 5.55555556e-02, 4.59767925e-16])"
      ]
     },
     "execution_count": 16,
     "metadata": {},
     "output_type": "execute_result"
    }
   ],
   "source": [
    "achieved = np.dot(np.dot(np.diagflat(weights),s_hatM),weights) # risk weight achieved\n",
    "achieved_weight = achieved/np.sum(achieved)\n",
    "achieved_weight"
   ]
  },
  {
   "cell_type": "code",
   "execution_count": 17,
   "metadata": {},
   "outputs": [
    {
     "name": "stdout",
     "output_type": "stream",
     "text": [
      "finished\n"
     ]
    }
   ],
   "source": [
    "#Output\n",
    "with pd.ExcelWriter('p1_out.xlsx', engine=\"openpyxl\") as writer:\n",
    "    pd.DataFrame(s_hatM).to_excel(writer, sheet_name='Covariance_Estimate_Sheet')\n",
    "    pd.DataFrame(weights).to_excel(writer, sheet_name='Weights_Sheet')\n",
    "    pd.DataFrame(achieved_weight).to_excel(writer, sheet_name='Achieved_Risk_Weights_Sheet')\n",
    "print(\"finished\")"
   ]
  },
  {
   "cell_type": "code",
   "execution_count": null,
   "metadata": {},
   "outputs": [],
   "source": []
  }
 ],
 "metadata": {
  "kernelspec": {
   "display_name": "Python 3",
   "language": "python",
   "name": "python3"
  },
  "language_info": {
   "codemirror_mode": {
    "name": "ipython",
    "version": 3
   },
   "file_extension": ".py",
   "mimetype": "text/x-python",
   "name": "python",
   "nbconvert_exporter": "python",
   "pygments_lexer": "ipython3",
   "version": "3.7.4"
  }
 },
 "nbformat": 4,
 "nbformat_minor": 2
}
